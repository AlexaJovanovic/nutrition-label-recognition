{
 "cells": [
  {
   "cell_type": "code",
   "execution_count": 33,
   "id": "ad00827b",
   "metadata": {},
   "outputs": [
    {
     "name": "stderr",
     "output_type": "stream",
     "text": [
      "Using CPU. Note: This module is much faster with a GPU.\n",
      "c:\\Aleksa_sve\\master\\master_rad_py\\.venv\\Lib\\site-packages\\torch\\utils\\data\\dataloader.py:666: UserWarning: 'pin_memory' argument is set as true but no accelerator is found, then device pinned memory won't be used.\n",
      "  warnings.warn(warn_msg)\n"
     ]
    },
    {
     "name": "stdout",
     "output_type": "stream",
     "text": [
      "Tekst u linijama ['konzerva prosecne nutritivne 0', 'himaiuri', 'ssboji; stipjack / vrednosti na 100 g neto mase:', '3', 'ribu', 'de', 'energija 511 kj / 121 kcal', 'jamisuva estu, masti 1,49 ~', 'od kojih zasicene 3 ', 'masne kiseline 0,69', 'uglieniojidraeceri', 'og', 'fa lgason.cz', 'proteini 27 19', '1119 so', 'je.min,']\n",
      "Calories: 511 kcal\n",
      "Total fat: 1.5 g\n",
      "  Saturated fat: No value\n",
      "Carbohydrate: No value\n",
      "  Dietary fiber: No value\n",
      "  Sugars: No value\n",
      "Protein: 27.0 g\n",
      "Saved result with bounding boxes to ./temp/detected_text_tuna.png\n"
     ]
    }
   ],
   "source": [
    "import easyocr\n",
    "import cv2\n",
    "import numpy as np\n",
    "from regex_matching import *\n",
    "\n",
    "path = r'./generated_labels/'\n",
    "path = r'./temp/'\n",
    "img_name = \"label_0_base.png\"\n",
    "img_name = \"tuna_crop.jpg\"\n",
    "\n",
    "def pretty_print_easyocr(results):\n",
    "    \"\"\"\n",
    "    Pretty-print EasyOCR output.\n",
    "    Expected format: [\n",
    "        ([ [x1, y1], [x2, y2], [x3, y3], [x4, y4] ], 'text', confidence),\n",
    "        ...\n",
    "    ]\n",
    "    \"\"\"\n",
    "    print(f\"{'Index':<6} {'Bounding Box (x,y)':<45} {'Text':<20} {'Confidence':<10}\")\n",
    "    print(\"-\" * 85)\n",
    "    \n",
    "    for i, (bbox, text, conf) in enumerate(results):\n",
    "        # Flatten bounding box for compact display\n",
    "        bbox_str = \", \".join([f\"({int(x)},{int(y)})\" for x, y in bbox])\n",
    "        print(f\"{i:<6} {bbox_str:<45} {text:<20} {conf:.6f}\")\n",
    "\n",
    "reader = easyocr.Reader(['en'], gpu=False)\n",
    "\n",
    "# Run OCR\n",
    "results = reader.readtext(path + img_name)\n",
    "\n",
    "#pretty_print_easyocr(results)\n",
    "\n",
    "# Load the original image\n",
    "image = cv2.imread(path + img_name)\n",
    "\n",
    "# Loop through OCR results\n",
    "for (bbox, text, prob) in results:\n",
    "    # bbox is [[x1,y1],[x2,y2],[x3,y3],[x4,y4]]\n",
    "    pts = [tuple(map(int, point)) for point in bbox]\n",
    "    \n",
    "    # Draw the bounding box (polygon)\n",
    "    cv2.polylines(image, [np.array(pts, dtype=np.int32)], True, (0, 255, 0), 2)\n",
    "    \n",
    "    # Put the text above the top-left corner of the bbox\n",
    "    cv2.putText(image, text, pts[0], cv2.FONT_HERSHEY_SIMPLEX, \n",
    "                2, (75, 250, 55), 3, cv2.LINE_AA)\n",
    "\n",
    "print(\"Tekst u linijama\", easyocr_to_lines(results))\n",
    "\n",
    "final_res = extract_nutrients(easyocr_to_lines(results), nutrient_aliases)\n",
    "\n",
    "# Save the result\n",
    "output_path = path + \"detected_text_tuna.png\"\n",
    "cv2.imwrite(output_path, image)\n",
    "\n",
    "print(final_res)\n",
    "print(f\"Saved result with bounding boxes to {output_path}\")\n",
    "\n"
   ]
  },
  {
   "cell_type": "code",
   "execution_count": 34,
   "id": "a1ccdc29",
   "metadata": {},
   "outputs": [],
   "source": [
    "easyocr_to_lines(results)\n",
    "final_res\n",
    "final_res = extract_nutrients(easyocr_to_lines(results), nutrient_aliases)\n"
   ]
  },
  {
   "cell_type": "code",
   "execution_count": 30,
   "id": "8d006d10",
   "metadata": {},
   "outputs": [
    {
     "name": "stdout",
     "output_type": "stream",
     "text": [
      "<re.Match object; span=(9, 15), match='511 kj'>\n",
      "121\n"
     ]
    },
    {
     "data": {
      "text/plain": [
       "NutritionLabelData(calories=511.0, total_fat=1.49, saturated_fat=None, carbohydrates=None, dietary_fiber=None, sugars=None, protein=27.0)"
      ]
     },
     "execution_count": 30,
     "metadata": {},
     "output_type": "execute_result"
    }
   ],
   "source": [
    "match = re.search(r\"(\\d+[.,]?\\d*)\\s*(kcal|kj|g|mg|mcg|µg)?\", easyocr_to_lines(results)[6])\n",
    "print(match)\n",
    "if match:\n",
    "    value = float(match.group(1).replace(\",\", \".\"))\n",
    "    \n",
    "    if (\"kj\" in match.group()):\n",
    "        value = int(value/4.2)\n",
    "    print(value)\n",
    "\n",
    "final_res"
   ]
  },
  {
   "cell_type": "code",
   "execution_count": 25,
   "id": "f49de311",
   "metadata": {},
   "outputs": [
    {
     "data": {
      "text/plain": [
       "<re.Match object; span=(9, 15), match='511 kj'>"
      ]
     },
     "execution_count": 25,
     "metadata": {},
     "output_type": "execute_result"
    }
   ],
   "source": [
    "easyocr_to_lines(results)[6]\n",
    "match"
   ]
  }
 ],
 "metadata": {
  "kernelspec": {
   "display_name": ".venv",
   "language": "python",
   "name": "python3"
  },
  "language_info": {
   "codemirror_mode": {
    "name": "ipython",
    "version": 3
   },
   "file_extension": ".py",
   "mimetype": "text/x-python",
   "name": "python",
   "nbconvert_exporter": "python",
   "pygments_lexer": "ipython3",
   "version": "3.12.9"
  }
 },
 "nbformat": 4,
 "nbformat_minor": 5
}
