{
 "cells": [
  {
   "cell_type": "code",
   "execution_count": 1,
   "id": "baa5603e",
   "metadata": {},
   "outputs": [],
   "source": [
    "%load_ext autoreload\n",
    "%autoreload 2"
   ]
  },
  {
   "cell_type": "code",
   "execution_count": 2,
   "id": "1dd930bd",
   "metadata": {},
   "outputs": [],
   "source": [
    "i = 0"
   ]
  },
  {
   "cell_type": "code",
   "execution_count": null,
   "id": "c03e474e",
   "metadata": {},
   "outputs": [],
   "source": [
    "from image_generation import NutritionLabelGenerator\n",
    "from augmentation import *\n",
    "\n",
    "working_dir = \"ntbk_test\"\n",
    "\n",
    "generator = NutritionLabelGenerator(output_dir=working_dir)\n",
    "\n",
    "label_true = generator.generate_nutrition_data()\n",
    "img_name = f\"label_{i:04d}.png\"\n",
    "img_path = generator.generate_image(label_true, img_name)\n",
    "\n",
    "augment = AugmentationParams.random()\n",
    "img = cv2.imread(img_path)\n",
    "img = apply_augmentations(img, augment)\n",
    "cv2.imwrite(img_path, img)\n",
    "\n",
    "i = i + 1\n"
   ]
  },
  {
   "cell_type": "code",
   "execution_count": null,
   "id": "f5a8cedd",
   "metadata": {},
   "outputs": [
    {
     "name": "stderr",
     "output_type": "stream",
     "text": [
      "Using CPU. Note: This module is much faster with a GPU.\n"
     ]
    },
    {
     "name": "stdout",
     "output_type": "stream",
     "text": [
      "[[[-487.           3.0019662]]\n",
      "\n",
      " [[-484.           3.0019662]]\n",
      "\n",
      " [[-492.           3.0194197]]]\n",
      "rotation: RotationResult(angle=0.0, confidence=0.0, method='hough_lines')\n",
      "Index  Bounding Box (x,y)                            Text                 Confidence\n",
      "-------------------------------------------------------------------------------------\n",
      "0      (296,260), (324,260), (324,286), (296,286)    60}                  0.118877\n",
      "1      (218,290), (248,290), (248,320), (218,320)    Fet                  0.031452\n",
      "2      (252,360), (284,360), (284,392), (252,392)    92                   0.296708\n",
      "3      (249,451), (267,451), (267,473), (249,473)    9                    0.531343\n",
      "4      (206,146), (277,194), (264,214), (193,165)    utriant              0.618629\n",
      "5      (173,162), (234,204), (219,226), (158,184)    Calores              0.391357\n",
      "6      (161,194), (220,237), (205,258), (146,215)    botal tat            0.090472\n",
      "7      (158,232), (231,287), (215,308), (142,253)    'Saturated           0.174510\n",
      "8      (349,242), (403,280), (388,301), (335,263)    Value                0.906875\n",
      "9      (132,256), (228,329), (212,351), (116,278)    Carbohydrate         0.436707\n",
      "10     (324,266), (363,296), (347,316), (308,286)    kcal                 0.160849\n",
      "11     (287,284), (320,307), (305,329), (272,305)    16 E                 0.107976\n",
      "12     (130,296), (186,341), (170,363), (114,317)    Dietary 5            0.185252\n",
      "13     (273,317), (306,341), (291,363), (258,339)    155                  0.136731\n",
      "14     (116,329), (167,373), (150,394), (99,350)     Sugars               0.362203\n",
      "15     (179,334), (220,366), (204,387), (164,354)    anber                0.087114\n",
      "16     (91,351), (142,395), (125,415), (74,372)      Folein               0.323033\n",
      "17     (243,386), (278,408), (263,430), (228,408)    245                  0.214997\n",
      "18     (229,419), (263,443), (247,465), (214,441)    5.6 E                0.213738\n",
      "19     (215,452), (248,479), (231,500), (198,473)    2335                 0.242658\n",
      "<re.Match object; span=(25, 27), match='60'>\n",
      "<re.Match object; span=(13, 16), match='155'>\n",
      "Calories: 60 kcal\n",
      "Total fat: 1.6 g\n",
      "  Saturated fat: 1.5 g\n",
      "Carbohydrate: 9.2 g\n",
      "  Dietary fiber: 2.4 g\n",
      "  Sugars: 5.6 g\n",
      "Protein: 2.3 g\n",
      "Calories: No value\n",
      "Total fat: No value\n",
      "  Saturated fat: No value\n",
      "Carbohydrate: 60.0 g\n",
      "  Dietary fiber: No value\n",
      "  Sugars: 155.0 g\n",
      "Protein: No value\n"
     ]
    }
   ],
   "source": [
    "from augmentation import *\n",
    "from models import *\n",
    "from deskewing_advanced import DeskewingPipeline\n",
    "import os\n",
    "import easyocr\n",
    "\n",
    "deskewer = DeskewingPipeline(debug=True, debug_dir=working_dir)\n",
    "img_corrected, rot_est = deskewer.deskew(img, method=\"hough_lines\")\n",
    "\n",
    "print(\"rotation:\", rot_est)\n",
    "\n",
    "working_dir = \"ntbk_test\"\n",
    "cv2.imwrite(os.path.join(working_dir, f\"label_{i:04d}_deskewed.png\"), img_corrected)\n",
    "\n",
    "# Run OCR\n",
    "reader = easyocr.Reader(['en'], gpu=False)\n",
    "ocr_results = reader.readtext(img_corrected)\n",
    "\n",
    "bbox_img = draw_bounding_boxes(img_corrected, ocr_results)\n",
    "\n",
    "cv2.imwrite(os.path.join(working_dir, f\"label_{i:04d}_boxes.png\"), bbox_img)\n",
    "\n",
    "import regex_matching as rem\n",
    "\n",
    "rem.pretty_print_easyocr(ocr_results)\n",
    "\n",
    "text_in_lines = rem.easyocr_to_lines(ocr_results)\n",
    "label_pred = rem.extract_nutrients(text_in_lines, rem.nutrient_aliases)\n",
    "\n",
    "print(label_true)\n",
    "print(label_pred)\n"
   ]
  }
 ],
 "metadata": {
  "kernelspec": {
   "display_name": ".venv",
   "language": "python",
   "name": "python3"
  },
  "language_info": {
   "codemirror_mode": {
    "name": "ipython",
    "version": 3
   },
   "file_extension": ".py",
   "mimetype": "text/x-python",
   "name": "python",
   "nbconvert_exporter": "python",
   "pygments_lexer": "ipython3",
   "version": "3.12.9"
  }
 },
 "nbformat": 4,
 "nbformat_minor": 5
}
